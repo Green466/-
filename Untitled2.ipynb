{
 "cells": [
  {
   "cell_type": "raw",
   "id": "f9a335cc-b91b-44e8-821e-9b2a7b809f74",
   "metadata": {},
   "source": [
    "Задание № 1"
   ]
  },
  {
   "cell_type": "code",
   "execution_count": null,
   "id": "e76a75c4-b760-4eee-bc51-20ea3c255989",
   "metadata": {},
   "outputs": [],
   "source": [
    "#Ввод слова\n",
    "word = input (\"Введите слово\")\n",
    "#Проверка на четность и нечетность с выводом условия\n",
    "if len(word) % 2 == 1: \n",
    "    print(word[len(word) // 2]) \n",
    "else: \n",
    "    print(word[len(word) // 2 - 1: len(word) // 2 + 1])\n",
    "\n"
   ]
  },
  {
   "cell_type": "raw",
   "id": "025176b8-f367-45da-8fbf-fbb82a6c0163",
   "metadata": {},
   "source": [
    "Задание № 2"
   ]
  },
  {
   "cell_type": "code",
   "execution_count": 106,
   "id": "eec43a83-ac03-458f-83ae-5256306d5840",
   "metadata": {},
   "outputs": [
    {
     "name": "stdout",
     "output_type": "stream",
     "text": [
      "Идеальные пары:\n",
      "Alex и Emma\n",
      "Arthur и Kate\n",
      "John и Kira\n",
      "Peter и Liza\n",
      "Richard и Trisha\n"
     ]
    }
   ],
   "source": [
    "boys = ['Peter','Alex','John','Arthur','Richard']\n",
    "#boys = ['Peter','Alex','John','Arthur','Richard','Michael']\n",
    "girls = ['Kate','Liza','Kira','Emma','Trisha']\n",
    "\n",
    "if len(boys) != len(girls):\n",
    "    print(\"Предупреждение! Кто-то может остаться без пары!\")\n",
    "else:\n",
    "    boys.sort()\n",
    "    girls.sort()\n",
    "    ideal_couples = dict(zip(boys, girls))\n",
    "    print(\"Идеальные пары:\")\n",
    "    for boy, girl in ideal_couples.items():\n",
    "        print(f\"{boy} и {girl}\")\n"
   ]
  }
 ],
 "metadata": {
  "kernelspec": {
   "display_name": "Python 3 (ipykernel)",
   "language": "python",
   "name": "python3"
  },
  "language_info": {
   "codemirror_mode": {
    "name": "ipython",
    "version": 3
   },
   "file_extension": ".py",
   "mimetype": "text/x-python",
   "name": "python",
   "nbconvert_exporter": "python",
   "pygments_lexer": "ipython3",
   "version": "3.12.7"
  }
 },
 "nbformat": 4,
 "nbformat_minor": 5
}
